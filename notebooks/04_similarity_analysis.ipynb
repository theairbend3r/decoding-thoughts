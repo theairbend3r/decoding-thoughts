{
 "cells": [
  {
   "cell_type": "markdown",
   "id": "7d5a793b-d254-4db7-90e0-5e3c61c2d34a",
   "metadata": {},
   "source": [
    "# RSA Analysis"
   ]
  },
  {
   "cell_type": "code",
   "execution_count": 1,
   "id": "8c30c84b-7847-4e4f-a704-491825a5a81f",
   "metadata": {},
   "outputs": [],
   "source": [
    "import numpy as np\n",
    "from tqdm.notebook import tqdm\n",
    "\n",
    "import torch\n",
    "from torch.utils.data import DataLoader\n",
    "\n",
    "import seaborn as sns\n",
    "import matplotlib.pyplot as plt\n",
    "\n",
    "import albumentations as A\n",
    "from albumentations.pytorch import ToTensorV2\n",
    "\n",
    "from sklearn.metrics.pairwise import cosine_similarity, cosine_distances\n",
    "\n",
    "from src.ml.test import test_model\n",
    "from src.dataset.kay import load_dataset\n",
    "from src.ml.dataset import StimulusDataset, FMRIDataset\n",
    "from src.ml.model import StimulusClassifier, FMRIClassifier\n",
    "from src.ml.utils import get_latent_emb_per_class\n",
    "from src.ml.rsa import run_rsa\n",
    "from src.ml import StimulusClassifierConfig, FMRIClassifierConfig\n",
    "from src.utils.util import prepare_stimulus_data, prepare_fmri_data"
   ]
  },
  {
   "cell_type": "code",
   "execution_count": 2,
   "id": "231008a2-74d6-4646-a83a-5678b28a12ff",
   "metadata": {},
   "outputs": [],
   "source": [
    "%matplotlib inline\n",
    "\n",
    "sns.set(style=\"ticks\", context=\"talk\")\n",
    "plt.style.use(\"dark_background\")\n",
    "\n",
    "title_size = 16\n",
    "params = {\n",
    "    \"legend.fontsize\": 14,\n",
    "    \"axes.labelsize\": title_size - 2,\n",
    "    \"axes.titlesize\": title_size,\n",
    "    \"xtick.labelsize\": title_size - 4,\n",
    "    \"ytick.labelsize\": title_size - 4,\n",
    "    \"axes.titlepad\": 1.5 * title_size,\n",
    "}\n",
    "\n",
    "plt.rcParams.update(params)"
   ]
  },
  {
   "cell_type": "markdown",
   "id": "ccbf25f6-e923-45df-88c4-4f2fe4d8899e",
   "metadata": {},
   "source": [
    "## Load Model Configuration"
   ]
  },
  {
   "cell_type": "code",
   "execution_count": 3,
   "id": "8c3b4ece-b12e-4489-8a5e-870014832c40",
   "metadata": {},
   "outputs": [],
   "source": [
    "stim_config = StimulusClassifierConfig()\n",
    "fmri_config = FMRIClassifierConfig()"
   ]
  },
  {
   "cell_type": "markdown",
   "id": "d6803d88-7204-4ccd-882c-74bef667d330",
   "metadata": {},
   "source": [
    "## Load Data"
   ]
  },
  {
   "cell_type": "code",
   "execution_count": 4,
   "id": "9846cd60-329a-418a-826f-73490b1cac26",
   "metadata": {},
   "outputs": [
    {
     "data": {
      "text/plain": [
       "((114, 128, 128), (114,), (114, 8427), (114,))"
      ]
     },
     "execution_count": 4,
     "metadata": {},
     "output_type": "execute_result"
    }
   ],
   "source": [
    "all_data = load_dataset(data_path=\"./../data/\")\n",
    "\n",
    "x_stim, y_stim = prepare_stimulus_data(\n",
    "    all_data=all_data,\n",
    "    data_subset=\"test\",\n",
    "    class_ignore_list=stim_config.class_ignore_list,\n",
    "    label_level=stim_config.label_level,\n",
    ")\n",
    "\n",
    "x_fmri, y_fmri = prepare_fmri_data(\n",
    "    all_data=all_data,\n",
    "    data_subset=\"test\",\n",
    "    class_ignore_list=fmri_config.class_ignore_list,\n",
    "    label_level=fmri_config.label_level,\n",
    "    roi_select_list=fmri_config.roi_select_list,\n",
    ")\n",
    "\n",
    "x_stim.shape, y_stim.shape, x_fmri.shape, y_fmri.shape"
   ]
  },
  {
   "cell_type": "code",
   "execution_count": 5,
   "id": "006cee34-7980-4469-a567-5fd852cfa934",
   "metadata": {},
   "outputs": [],
   "source": [
    "assert len(np.unique(y_stim)) == len(np.unique(y_fmri))\n",
    "class2idx = {k: i for i, k in enumerate(np.unique(y_stim))}\n",
    "idx2class = {v: k for k, v in class2idx.items()}"
   ]
  },
  {
   "cell_type": "code",
   "execution_count": 6,
   "id": "cb801a3b-6ff6-456e-9802-2c5be7fa0e13",
   "metadata": {},
   "outputs": [],
   "source": [
    "stim_dataset = StimulusDataset(\n",
    "    x_data=x_stim,\n",
    "    y_data=y_stim,\n",
    "    img_transform=stim_config.img_transform[\"test\"],\n",
    "    class2idx=class2idx,\n",
    ")\n",
    "\n",
    "stim_loader = DataLoader(dataset=stim_dataset, shuffle=False, batch_size=1)\n",
    "\n",
    "\n",
    "fmri_dataset = FMRIDataset(x_data=x_fmri, y_data=y_fmri, class2idx=class2idx)\n",
    "\n",
    "fmri_loader = DataLoader(dataset=fmri_dataset, shuffle=False, batch_size=1)"
   ]
  },
  {
   "cell_type": "markdown",
   "id": "b7d113ca-5c52-4777-b761-196e83dec9a5",
   "metadata": {},
   "source": [
    "## Load Model"
   ]
  },
  {
   "cell_type": "code",
   "execution_count": 7,
   "id": "8af83f02-6c9e-4184-928a-1dfd0d0799cc",
   "metadata": {},
   "outputs": [
    {
     "name": "stdout",
     "output_type": "stream",
     "text": [
      "fMRI model loaded successfully.\n"
     ]
    }
   ],
   "source": [
    "fmri_model = FMRIClassifier(num_features=x_fmri.shape[1], num_classes=len(class2idx))\n",
    "fmri_model.load_state_dict(\n",
    "    torch.load(\"./../models/fmri_classifier/fmri_classifier_model.pth\")\n",
    ")\n",
    "fmri_model.eval()\n",
    "\n",
    "print(\"fMRI model loaded successfully.\")"
   ]
  },
  {
   "cell_type": "code",
   "execution_count": null,
   "id": "f5cd7fc1-aee1-4361-9966-03b0a2b39f8c",
   "metadata": {},
   "outputs": [],
   "source": []
  },
  {
   "cell_type": "code",
   "execution_count": null,
   "id": "25c07f90-fa37-4fe4-a26a-5760fc0414a1",
   "metadata": {},
   "outputs": [],
   "source": []
  },
  {
   "cell_type": "code",
   "execution_count": null,
   "id": "d974379c-0221-4dda-81d5-f6d086d1e137",
   "metadata": {},
   "outputs": [],
   "source": []
  },
  {
   "cell_type": "code",
   "execution_count": null,
   "id": "0c5e342d-1070-49bb-9b49-50de00e0752d",
   "metadata": {},
   "outputs": [],
   "source": []
  },
  {
   "cell_type": "markdown",
   "id": "3e006d6e-07fd-404c-9168-bba35a4909d3",
   "metadata": {},
   "source": [
    "## Representational Similarity Analysis"
   ]
  },
  {
   "cell_type": "code",
   "execution_count": null,
   "id": "8d7c4da3-8b06-4ca8-bd40-9e154d7a8cc8",
   "metadata": {},
   "outputs": [],
   "source": [
    "(\n",
    "    stim_model_names,\n",
    "    stim_vs_fmri_cosine_norm_list,\n",
    "    stim_model_norm_list,\n",
    "    stim_model_num_param_list,\n",
    ") = run_rsa(\n",
    "    fmri_model=fmri_model,\n",
    "    fmri_loader=fmri_loader,\n",
    "    fmri_config=fmri_config,\n",
    "    stim_loader=stim_loader,\n",
    "    stim_config=stim_config,\n",
    "    class2idx=class2idx,\n",
    "    idx2class=idx2class,\n",
    ")"
   ]
  },
  {
   "cell_type": "code",
   "execution_count": null,
   "id": "465a7ef2-9e02-49af-9ab6-99766e98c4a1",
   "metadata": {},
   "outputs": [],
   "source": [
    "stim_model_names, stim_vs_fmri_cosine_norm_list, stim_model_norm_list, stim_model_num_param_list"
   ]
  },
  {
   "cell_type": "code",
   "execution_count": null,
   "id": "8c687f4a-8952-4d2e-9d6c-d3dc1969b6dc",
   "metadata": {},
   "outputs": [],
   "source": [
    "fig, axes = plt.subplots(nrows=2, ncols=2, figsize=(30, 25))\n",
    "sns.lineplot(x=stim_model_names, y=stim_model_norm_list, ax=axes[0, 0])\n",
    "axes[0, 0].set_title(\"Frobenius Norm for Different Models\")\n",
    "axes[0, 0].set_xlabel(\"Model Names\")\n",
    "axes[0, 0].set_ylabel(\"Forbenius Norms\")\n",
    "\n",
    "sns.lineplot(x=stim_model_names, y=stim_model_num_param_list, ax=axes[0, 1])\n",
    "axes[0, 1].set_title(\"Number of Parameters for Different Models\")\n",
    "axes[0, 1].set_xlabel(\"Model Names\")\n",
    "axes[0, 1].set_ylabel(\"Number of Parameters\")\n",
    "\n",
    "sns.lineplot(x=stim_model_names, y=stim_vs_fmri_cosine_norm_list, ax=axes[1, 0])\n",
    "axes[1, 0].set_title(\"Cosine Similarity between fMRI and Stimulus Models\")\n",
    "axes[1, 0].set_xlabel(\"Model Names\")\n",
    "axes[1, 0].set_ylabel(\"Cosine Similarity\")\n",
    "\n",
    "\n",
    "# sns.lineplot(x=stim_model_names, y=stim_vs_fmri_cosinesim_norm_list, ax=axes[1, 0])\n",
    "axes[1, 1].set_title(\"Accuracy for Different Stimulus Models\")\n",
    "axes[1, 1].set_xlabel(\"Model Names\")\n",
    "axes[1, 1].set_ylabel(\"Accuracy\")\n",
    "\n",
    "\n",
    "plt.suptitle(\"Stimulus Model Characterstics\")"
   ]
  },
  {
   "cell_type": "code",
   "execution_count": null,
   "id": "eba33382-3fee-4956-aa8f-949cec851dc8",
   "metadata": {},
   "outputs": [],
   "source": [
    "fig, axes = plt.subplots(nrows=2, ncols=2, figsize=(30, 25))\n",
    "\n",
    "sns.lineplot(x=stim_model_num_param_list, y=stim_vs_fmri_cosine_norm_list, ax=axes[0, 0])\n",
    "axes[0, 0].set_title(\"Effect of Number of Parameters on RSM (Stim vs fMRI)\")\n",
    "axes[0, 0].set_xlabel(\"Number of parameters\")\n",
    "axes[0, 0].set_ylabel(\"Cosine Similarity\")\n",
    "\n",
    "sns.lineplot(x=stim_model_norm_list, y=stim_vs_fmri_cosine_norm_list, ax=axes[0, 1])\n",
    "axes[0, 1].set_title(\"Effect of Parameter Norm on RSM (Stim vs fMRI)\")\n",
    "axes[0, 1].set_xlabel(\"Forbenius Norm of parameters\")\n",
    "axes[0, 1].set_ylabel(\"norm (RSM)\")\n",
    "\n",
    "plt.suptitle(\"Representation Similarity Analysis\")"
   ]
  },
  {
   "cell_type": "code",
   "execution_count": null,
   "id": "98aff042-dfb1-4db5-8277-ae3f4401a4cc",
   "metadata": {},
   "outputs": [],
   "source": [
    "y_true_list, y_pred_list = test_model(fmri_model, fmri_loader, device=\"cpu\")"
   ]
  },
  {
   "cell_type": "code",
   "execution_count": null,
   "id": "ee3b5e0d-ceb2-4cdb-847c-93ff4b8fc2b6",
   "metadata": {},
   "outputs": [],
   "source": []
  }
 ],
 "metadata": {
  "kernelspec": {
   "display_name": "Python 3 (ipykernel)",
   "language": "python",
   "name": "python3"
  },
  "language_info": {
   "codemirror_mode": {
    "name": "ipython",
    "version": 3
   },
   "file_extension": ".py",
   "mimetype": "text/x-python",
   "name": "python",
   "nbconvert_exporter": "python",
   "pygments_lexer": "ipython3",
   "version": "3.8.11"
  }
 },
 "nbformat": 4,
 "nbformat_minor": 5
}
