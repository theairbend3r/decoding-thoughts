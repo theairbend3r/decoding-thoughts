{
 "cells": [
  {
   "cell_type": "code",
   "execution_count": 1,
   "id": "29c5abdf-26a0-4bd9-bf12-23625f03fbd0",
   "metadata": {},
   "outputs": [
    {
     "data": {
      "text/plain": [
       "dtype('float64')"
      ]
     },
     "execution_count": 1,
     "metadata": {},
     "output_type": "execute_result"
    }
   ],
   "source": [
    "from src.dataset.kay import load_dataset\n",
    "from src.utils.util import convert_arr_to_img\n",
    "\n",
    "all_data = load_dataset(data_path=\"./../data/\")"
   ]
  },
  {
   "cell_type": "code",
   "execution_count": 3,
   "id": "09d2b437-dc61-41c7-99cd-3006e3385d2f",
   "metadata": {},
   "outputs": [
    {
     "data": {
      "text/plain": [
       "True"
      ]
     },
     "execution_count": 3,
     "metadata": {},
     "output_type": "execute_result"
    }
   ],
   "source": []
  }
 ],
 "metadata": {
  "kernelspec": {
   "display_name": "Python 3 (ipykernel)",
   "language": "python",
   "name": "python3"
  },
  "language_info": {
   "codemirror_mode": {
    "name": "ipython",
    "version": 3
   },
   "file_extension": ".py",
   "mimetype": "text/x-python",
   "name": "python",
   "nbconvert_exporter": "python",
   "pygments_lexer": "ipython3",
   "version": "3.8.11"
  }
 },
 "nbformat": 4,
 "nbformat_minor": 5
}
