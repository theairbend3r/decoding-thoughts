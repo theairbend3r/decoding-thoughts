{
 "cells": [
  {
   "cell_type": "code",
   "execution_count": 1,
   "id": "c03aa188",
   "metadata": {},
   "outputs": [],
   "source": [
    "import numpy as np\n",
    "import seaborn as sns\n",
    "import matplotlib.pyplot as plt\n",
    "\n",
    "import torch\n",
    "import torch.nn as nn\n",
    "import torch.optim as optim\n",
    "from torch.utils.data import DataLoader\n",
    "\n",
    "from sklearn.model_selection import train_test_split\n",
    "\n",
    "from src.dataset.kay import load_dataset\n",
    "from src.utils.util import prepare_fmri_data\n",
    "\n",
    "from src.ml.test import test_model\n",
    "from src.ml.train import train_model\n",
    "from src.ml.dataset import FMRIDataset\n",
    "from src.ml.model import FMRIClassifier\n",
    "from src.ml.utils import plot_loss_acc_curves, generate_score_report"
   ]
  },
  {
   "cell_type": "code",
   "execution_count": 2,
   "id": "16400863",
   "metadata": {},
   "outputs": [],
   "source": [
    "%matplotlib inline\n",
    "sns.set_style(\"darkgrid\")\n",
    "\n",
    "title_size = 16\n",
    "params = {'legend.fontsize': 14,\n",
    "          'axes.labelsize': title_size - 2,\n",
    "          'axes.titlesize': title_size,\n",
    "          'xtick.labelsize': title_size - 4,\n",
    "          'ytick.labelsize': title_size - 4,\n",
    "          'axes.titlepad': 1.5 * title_size}\n",
    "\n",
    "plt.rcParams.update(params)"
   ]
  },
  {
   "cell_type": "code",
   "execution_count": 3,
   "id": "e92cda84",
   "metadata": {},
   "outputs": [
    {
     "name": "stdout",
     "output_type": "stream",
     "text": [
      "We're using => cuda\n"
     ]
    }
   ],
   "source": [
    "device = torch.device(\"cuda\" if torch.cuda.is_available() else \"cpu\")\n",
    "print(\"We're using =>\", device)"
   ]
  },
  {
   "cell_type": "markdown",
   "id": "ecceaf24",
   "metadata": {},
   "source": [
    "## Load Data"
   ]
  },
  {
   "cell_type": "code",
   "execution_count": 4,
   "id": "1cd7958f",
   "metadata": {},
   "outputs": [],
   "source": [
    "all_data = load_dataset(data_path=\"./../data/\")"
   ]
  },
  {
   "cell_type": "code",
   "execution_count": 5,
   "id": "35057685",
   "metadata": {},
   "outputs": [],
   "source": [
    "class_ignore_list = [\"person\", \"fungus\", \"plant\"]\n",
    "roi_select_list = [1, 2, 3]\n",
    "\n",
    "x_trainval, y_trainval = prepare_fmri_data(all_data=all_data, \n",
    "                                           data_subset = \"train\", \n",
    "                                           class_ignore_list=class_ignore_list, \n",
    "                                           label_level= 0 , \n",
    "                                           roi_select_list = roi_select_list)\n",
    "\n",
    "# split trainval into train and val data\n",
    "x_train, x_val, y_train, y_val = train_test_split(x_trainval, \n",
    "                                                  y_trainval, \n",
    "                                                  test_size=0.2, \n",
    "                                                  stratify=y_trainval,\n",
    "                                                  random_state=42)\n",
    "\n",
    "\n",
    "x_test, y_test = prepare_fmri_data(all_data=all_data, \n",
    "                                           data_subset = \"test\", \n",
    "                                           class_ignore_list=class_ignore_list, \n",
    "                                           label_level= 0 , \n",
    "                                           roi_select_list = roi_select_list)"
   ]
  },
  {
   "cell_type": "code",
   "execution_count": 6,
   "id": "2701eeef",
   "metadata": {},
   "outputs": [
    {
     "data": {
      "text/plain": [
       "((1393, 5166), (1393,), (349, 5166), (349,), (119, 5166), (119,))"
      ]
     },
     "execution_count": 6,
     "metadata": {},
     "output_type": "execute_result"
    }
   ],
   "source": [
    "x_train.shape, y_train.shape, x_val.shape, y_val.shape, x_test.shape, y_test.shape"
   ]
  },
  {
   "cell_type": "code",
   "execution_count": 7,
   "id": "2e78ccae",
   "metadata": {},
   "outputs": [],
   "source": [
    "class2idx = {k:i for i,k in enumerate(np.unique(y_trainval))}\n",
    "idx2class = {v:k for k,v in class2idx.items()}"
   ]
  },
  {
   "cell_type": "markdown",
   "id": "05009be6",
   "metadata": {},
   "source": [
    "## Create Dataset and Dataloader"
   ]
  },
  {
   "cell_type": "code",
   "execution_count": 8,
   "id": "5a721ebf",
   "metadata": {},
   "outputs": [],
   "source": [
    "train_dataset = FMRIDataset(x_data=x_train, \n",
    "                             y_data = y_train, \n",
    "                             class2idx = class2idx)\n",
    "\n",
    "val_dataset = FMRIDataset(x_data=x_val, \n",
    "                             y_data = y_val, \n",
    "                             class2idx = class2idx)\n",
    "\n",
    "test_dataset = FMRIDataset(x_data = x_test, \n",
    "                            y_data = y_test, \n",
    "                            class2idx = class2idx)\n",
    "\n",
    "train_loader = DataLoader(dataset=train_dataset, shuffle=True, batch_size=64)\n",
    "val_loader = DataLoader(dataset=val_dataset, shuffle=False, batch_size=64)\n",
    "test_loader = DataLoader(dataset=test_dataset, shuffle=False, batch_size=64)"
   ]
  },
  {
   "cell_type": "code",
   "execution_count": 9,
   "id": "0b1af8bd-11bf-4905-9a34-30e7e2b107fa",
   "metadata": {},
   "outputs": [
    {
     "data": {
      "text/plain": [
       "1"
      ]
     },
     "execution_count": 9,
     "metadata": {},
     "output_type": "execute_result"
    }
   ],
   "source": [
    "len(train_dataset[0][0].shape)"
   ]
  },
  {
   "cell_type": "markdown",
   "id": "ef95b945",
   "metadata": {},
   "source": [
    "## Initialize Model"
   ]
  },
  {
   "cell_type": "code",
   "execution_count": null,
   "id": "0d53e32c",
   "metadata": {},
   "outputs": [],
   "source": [
    "model = FMRIClassifier(num_features=train_dataset[0][0].shape[0], num_classes=len(class2idx))\n",
    "model.to(device)\n",
    "\n",
    "epochs = 15\n",
    "criterion = nn.CrossEntropyLoss() #weight=class_weights.to(device)\n",
    "optimizer = optim.SGD(model.parameters(), lr=0.001, momentum=0.99)"
   ]
  },
  {
   "cell_type": "markdown",
   "id": "93e28628",
   "metadata": {},
   "source": [
    "## Train Model"
   ]
  },
  {
   "cell_type": "code",
   "execution_count": null,
   "id": "de7c36c4",
   "metadata": {},
   "outputs": [],
   "source": [
    "loss_stats, acc_stats = train_model(\n",
    "    model=model,\n",
    "    epochs=epochs,\n",
    "    train_loader=train_loader,\n",
    "    val_loader=val_loader,\n",
    "    optimizer=optimizer,\n",
    "    criterion=criterion,\n",
    "    device=device,\n",
    ")"
   ]
  },
  {
   "cell_type": "code",
   "execution_count": null,
   "id": "fca09faf",
   "metadata": {},
   "outputs": [],
   "source": [
    "plot_loss_acc_curves(loss_stats, acc_stats)"
   ]
  },
  {
   "cell_type": "markdown",
   "id": "2409e2a9",
   "metadata": {},
   "source": [
    "## Test Model"
   ]
  },
  {
   "cell_type": "code",
   "execution_count": null,
   "id": "f5315535",
   "metadata": {},
   "outputs": [],
   "source": [
    "y_true_list, y_pred_list = test_model(model, test_loader, device)"
   ]
  },
  {
   "cell_type": "code",
   "execution_count": null,
   "id": "01e396ce",
   "metadata": {},
   "outputs": [],
   "source": [
    "generate_score_report(y_true=y_true_list, y_pred=y_pred_list, idx2class=idx2class)"
   ]
  },
  {
   "cell_type": "code",
   "execution_count": null,
   "id": "d3d59266",
   "metadata": {},
   "outputs": [],
   "source": []
  }
 ],
 "metadata": {
  "kernelspec": {
   "display_name": "Python 3 (ipykernel)",
   "language": "python",
   "name": "python3"
  },
  "language_info": {
   "codemirror_mode": {
    "name": "ipython",
    "version": 3
   },
   "file_extension": ".py",
   "mimetype": "text/x-python",
   "name": "python",
   "nbconvert_exporter": "python",
   "pygments_lexer": "ipython3",
   "version": "3.8.11"
  }
 },
 "nbformat": 4,
 "nbformat_minor": 5
}
