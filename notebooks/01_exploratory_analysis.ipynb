{
 "cells": [
  {
   "cell_type": "code",
   "execution_count": 1,
   "id": "7bf81dee",
   "metadata": {},
   "outputs": [],
   "source": [
    "from src.dataset.kay import load_dataset"
   ]
  },
  {
   "cell_type": "code",
   "execution_count": null,
   "id": "5045bc7d-8159-4b14-841d-342de2bcd9d8",
   "metadata": {},
   "outputs": [],
   "source": [
    "img_dict, train_labels, val_labels = load_dataset()"
   ]
  }
 ],
 "metadata": {
  "interpreter": {
   "hash": "5b172b4da0ed0f78a171d9b8882f845441692947a17cd92ba75f333c5ba4d1dd"
  },
  "kernelspec": {
   "display_name": "Python 3",
   "language": "python",
   "name": "python3"
  },
  "language_info": {
   "codemirror_mode": {
    "name": "ipython",
    "version": 3
   },
   "file_extension": ".py",
   "mimetype": "text/x-python",
   "name": "python",
   "nbconvert_exporter": "python",
   "pygments_lexer": "ipython3",
   "version": "3.8.11"
  }
 },
 "nbformat": 4,
 "nbformat_minor": 5
}
