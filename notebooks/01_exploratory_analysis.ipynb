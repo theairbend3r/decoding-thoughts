{
 "cells": [
  {
   "cell_type": "markdown",
   "id": "616aa164-912a-458c-847c-b13422b9b628",
   "metadata": {},
   "source": [
    "# Exploratory Analysis"
   ]
  },
  {
   "cell_type": "code",
   "execution_count": 1,
   "id": "7bf81dee",
   "metadata": {},
   "outputs": [],
   "source": [
    "import numpy as np\n",
    "import seaborn as sns\n",
    "from src.dataset.kay import load_dataset"
   ]
  },
  {
   "cell_type": "code",
   "execution_count": 2,
   "id": "5045bc7d-8159-4b14-841d-342de2bcd9d8",
   "metadata": {},
   "outputs": [],
   "source": [
    "all_data = load_dataset(data_path=\"./../data/\")"
   ]
  },
  {
   "cell_type": "code",
   "execution_count": null,
   "id": "429a5990-4749-4598-b76d-034565e4ba36",
   "metadata": {},
   "outputs": [],
   "source": []
  },
  {
   "cell_type": "code",
   "execution_count": null,
   "id": "c5276c05-f097-4fd5-b7eb-87c8c8f8bab3",
   "metadata": {},
   "outputs": [],
   "source": []
  }
 ],
 "metadata": {
  "interpreter": {
   "hash": "5b172b4da0ed0f78a171d9b8882f845441692947a17cd92ba75f333c5ba4d1dd"
  },
  "kernelspec": {
   "display_name": "Python 3",
   "language": "python",
   "name": "python3"
  },
  "language_info": {
   "codemirror_mode": {
    "name": "ipython",
    "version": 3
   },
   "file_extension": ".py",
   "mimetype": "text/x-python",
   "name": "python",
   "nbconvert_exporter": "python",
   "pygments_lexer": "ipython3",
   "version": "3.8.11"
  },
  "toc-autonumbering": true
 },
 "nbformat": 4,
 "nbformat_minor": 5
}
