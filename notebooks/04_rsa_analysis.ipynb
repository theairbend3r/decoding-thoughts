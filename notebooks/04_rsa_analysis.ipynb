{
 "cells": [
  {
   "cell_type": "markdown",
   "id": "7d5a793b-d254-4db7-90e0-5e3c61c2d34a",
   "metadata": {},
   "source": [
    "# RSA Analysis"
   ]
  },
  {
   "cell_type": "code",
   "execution_count": 1,
   "id": "8c30c84b-7847-4e4f-a704-491825a5a81f",
   "metadata": {},
   "outputs": [],
   "source": [
    "import numpy as np\n",
    "\n",
    "import torch\n",
    "from torch.utils.data import DataLoader\n",
    "\n",
    "import albumentations as A\n",
    "from albumentations.pytorch import ToTensorV2\n",
    "\n",
    "from src.ml import StimulusClassifierConfig, FMRIClassifierConfig\n",
    "\n",
    "from src.dataset.kay import load_dataset\n",
    "from src.utils.util import prepare_stimulus_data, prepare_fmri_data\n",
    "from src.ml.model import StimulusClassifier, FMRIClassifier\n",
    "from src.ml.dataset import StimulusDataset, FMRIDataset"
   ]
  },
  {
   "cell_type": "code",
   "execution_count": 2,
   "id": "8c3b4ece-b12e-4489-8a5e-870014832c40",
   "metadata": {},
   "outputs": [],
   "source": [
    "config_stim = StimulusClassifierConfig()\n",
    "config_fmri = FMRIClassifierConfig()"
   ]
  },
  {
   "cell_type": "code",
   "execution_count": 3,
   "id": "9846cd60-329a-418a-826f-73490b1cac26",
   "metadata": {},
   "outputs": [
    {
     "data": {
      "text/plain": [
       "((119, 128, 128), (119,), (119, 5166), (119,))"
      ]
     },
     "execution_count": 3,
     "metadata": {},
     "output_type": "execute_result"
    }
   ],
   "source": [
    "all_data = load_dataset(data_path=\"./../data/\")\n",
    "\n",
    "x_stim, y_stim = prepare_stimulus_data(\n",
    "    all_data=all_data,\n",
    "    data_subset=\"test\",\n",
    "    class_ignore_list=config_stim.class_ignore_list,\n",
    "    label_level=config_stim.label_level,\n",
    ")\n",
    "\n",
    "x_fmri, y_fmri = prepare_fmri_data(\n",
    "    all_data=all_data,\n",
    "    data_subset=\"test\",\n",
    "    class_ignore_list=config_fmri.class_ignore_list,\n",
    "    label_level=config_fmri.label_level,\n",
    "    roi_select_list=config_fmri.roi_select_list,\n",
    ")\n",
    "\n",
    "x_stim.shape, y_stim.shape, x_fmri.shape, y_fmri.shape"
   ]
  },
  {
   "cell_type": "code",
   "execution_count": 4,
   "id": "006cee34-7980-4469-a567-5fd852cfa934",
   "metadata": {},
   "outputs": [],
   "source": [
    "assert len(np.unique(y_stim)) == len(np.unique(y_fmri))\n",
    "class2idx = {k: i for i, k in enumerate(np.unique(y_stim))}\n",
    "idx2class = {v: k for k, v in class2idx.items()}"
   ]
  },
  {
   "cell_type": "code",
   "execution_count": 5,
   "id": "cb801a3b-6ff6-456e-9802-2c5be7fa0e13",
   "metadata": {},
   "outputs": [],
   "source": [
    "stim_dataset = StimulusDataset(\n",
    "    x_data=x_stim,\n",
    "    y_data=y_stim,\n",
    "    img_transform=config_stim.img_transform[\"test\"],\n",
    "    class2idx=class2idx,\n",
    ")\n",
    "\n",
    "stim_loader = DataLoader(dataset=stim_dataset, shuffle=False, batch_size=1)\n",
    "\n",
    "\n",
    "fmri_dataset = FMRIDataset(x_data=x_fmri, y_data=y_fmri, class2idx=class2idx)\n",
    "\n",
    "fmri_loader = DataLoader(dataset=fmri_dataset, shuffle=False, batch_size=1)"
   ]
  },
  {
   "cell_type": "code",
   "execution_count": 6,
   "id": "8af83f02-6c9e-4184-928a-1dfd0d0799cc",
   "metadata": {},
   "outputs": [
    {
     "name": "stdout",
     "output_type": "stream",
     "text": [
      "Models loaded.\n"
     ]
    }
   ],
   "source": [
    "stim_model = StimulusClassifier(num_channel=3, num_classes=5)\n",
    "stim_model.load_state_dict(torch.load('./../models/stimulus_classifier/stim_classifier_model.pth'))\n",
    "stim_model.eval()\n",
    "\n",
    "fmri_model = FMRIClassifier(num_features=5166, num_classes=5)\n",
    "fmri_model.load_state_dict(torch.load('./../models/fmri_classifier/fmri_classifier_model.pth'))\n",
    "fmri_model.eval()\n",
    "\n",
    "print(\"Models loaded.\")"
   ]
  },
  {
   "cell_type": "code",
   "execution_count": 8,
   "id": "a33640a3-f2f3-4f8d-ab58-b7e21cf12fc2",
   "metadata": {},
   "outputs": [
    {
     "name": "stdout",
     "output_type": "stream",
     "text": [
      "artifact\n",
      "entity\n"
     ]
    }
   ],
   "source": [
    "with torch.no_grad():\n",
    "    y_pred_stim = stim_model.predict(next(iter(stim_loader))[0])\n",
    "    print(idx2class[y_pred_stim])\n",
    "    \n",
    "with torch.no_grad():\n",
    "    y_pred_fmri = fmri_model.predict(next(iter(fmri_loader))[0])\n",
    "    print(idx2class[y_pred_fmri])"
   ]
  },
  {
   "cell_type": "code",
   "execution_count": 19,
   "id": "fdd6b59e-151d-45ea-a60e-f4aa5fd9c535",
   "metadata": {},
   "outputs": [
    {
     "data": {
      "text/plain": [
       "(torch.Size([64, 8192]), torch.Size([64, 5166]))"
      ]
     },
     "execution_count": 19,
     "metadata": {},
     "output_type": "execute_result"
    }
   ],
   "source": [
    "stim_model.fc1.weight.shape, fmri_model.block_1[0].weight.shape"
   ]
  },
  {
   "cell_type": "code",
   "execution_count": 20,
   "id": "ab3fc52e-470f-4447-ad32-a551b110b751",
   "metadata": {},
   "outputs": [],
   "source": [
    "with torch.no_grad():\n",
    "    hidden_stim = stim_model.get_latent_rep(next(iter(stim_loader))[0])\n",
    "    \n",
    "with torch.no_grad():\n",
    "    hidden_fmri = fmri_model.get_latent_rep(next(iter(fmri_loader))[0])"
   ]
  },
  {
   "cell_type": "code",
   "execution_count": 22,
   "id": "a38f5e0a-41dd-4223-addc-706c65226235",
   "metadata": {},
   "outputs": [
    {
     "data": {
      "text/plain": [
       "(torch.Size([1, 64]), torch.Size([1, 64]))"
      ]
     },
     "execution_count": 22,
     "metadata": {},
     "output_type": "execute_result"
    }
   ],
   "source": [
    "hidden_stim.shape, hidden_fmri.shape"
   ]
  },
  {
   "cell_type": "code",
   "execution_count": 24,
   "id": "5907724d-4fd1-40bd-8e52-8d67099f3347",
   "metadata": {},
   "outputs": [
    {
     "data": {
      "text/plain": [
       "tensor([[-0.4580]])"
      ]
     },
     "execution_count": 24,
     "metadata": {},
     "output_type": "execute_result"
    }
   ],
   "source": [
    "hidden_fmri @ hidden_stim.T"
   ]
  },
  {
   "cell_type": "code",
   "execution_count": null,
   "id": "71cb75e8-bddf-4018-a1e2-96132379f04c",
   "metadata": {},
   "outputs": [],
   "source": []
  },
  {
   "cell_type": "code",
   "execution_count": null,
   "id": "bd6f09de-cb2a-4061-8e54-de67066b99d1",
   "metadata": {},
   "outputs": [],
   "source": []
  },
  {
   "cell_type": "code",
   "execution_count": null,
   "id": "9083635f-eb5d-4cf2-8f79-eb21d76fef00",
   "metadata": {},
   "outputs": [],
   "source": []
  }
 ],
 "metadata": {
  "kernelspec": {
   "display_name": "Python 3 (ipykernel)",
   "language": "python",
   "name": "python3"
  },
  "language_info": {
   "codemirror_mode": {
    "name": "ipython",
    "version": 3
   },
   "file_extension": ".py",
   "mimetype": "text/x-python",
   "name": "python",
   "nbconvert_exporter": "python",
   "pygments_lexer": "ipython3",
   "version": "3.8.11"
  }
 },
 "nbformat": 4,
 "nbformat_minor": 5
}
