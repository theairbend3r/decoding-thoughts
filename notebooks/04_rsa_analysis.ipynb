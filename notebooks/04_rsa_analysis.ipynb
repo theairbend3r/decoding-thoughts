{
 "cells": [
  {
   "cell_type": "markdown",
   "id": "7d5a793b-d254-4db7-90e0-5e3c61c2d34a",
   "metadata": {},
   "source": [
    "# RSA Analysis"
   ]
  },
  {
   "cell_type": "code",
   "execution_count": 24,
   "id": "8c30c84b-7847-4e4f-a704-491825a5a81f",
   "metadata": {},
   "outputs": [],
   "source": [
    "import numpy as np\n",
    "\n",
    "import torch\n",
    "from torch.utils.data import DataLoader\n",
    "\n",
    "import seaborn as sns\n",
    "import matplotlib.pyplot as plt\n",
    "\n",
    "import albumentations as A\n",
    "from albumentations.pytorch import ToTensorV2\n",
    "\n",
    "from src.dataset.kay import load_dataset\n",
    "from src.ml.dataset import StimulusDataset, FMRIDataset\n",
    "from src.ml.model import StimulusClassifier, FMRIClassifier\n",
    "from src.ml import StimulusClassifierConfig, FMRIClassifierConfig\n",
    "from src.utils.util import prepare_stimulus_data, prepare_fmri_data"
   ]
  },
  {
   "cell_type": "code",
   "execution_count": 26,
   "id": "231008a2-74d6-4646-a83a-5678b28a12ff",
   "metadata": {},
   "outputs": [],
   "source": [
    "%matplotlib inline\n",
    "sns.set_style(\"darkgrid\")\n",
    "\n",
    "title_size = 16\n",
    "params = {\n",
    "    \"legend.fontsize\": 14,\n",
    "    \"axes.labelsize\": title_size - 2,\n",
    "    \"axes.titlesize\": title_size,\n",
    "    \"xtick.labelsize\": title_size - 4,\n",
    "    \"ytick.labelsize\": title_size - 4,\n",
    "    \"axes.titlepad\": 1.5 * title_size,\n",
    "}\n",
    "\n",
    "plt.rcParams.update(params)"
   ]
  },
  {
   "cell_type": "markdown",
   "id": "ccbf25f6-e923-45df-88c4-4f2fe4d8899e",
   "metadata": {},
   "source": [
    "## Load Model Configuration"
   ]
  },
  {
   "cell_type": "code",
   "execution_count": 2,
   "id": "8c3b4ece-b12e-4489-8a5e-870014832c40",
   "metadata": {},
   "outputs": [],
   "source": [
    "config_stim = StimulusClassifierConfig()\n",
    "config_fmri = FMRIClassifierConfig()"
   ]
  },
  {
   "cell_type": "markdown",
   "id": "d6803d88-7204-4ccd-882c-74bef667d330",
   "metadata": {},
   "source": [
    "## Load Data"
   ]
  },
  {
   "cell_type": "code",
   "execution_count": 3,
   "id": "9846cd60-329a-418a-826f-73490b1cac26",
   "metadata": {},
   "outputs": [
    {
     "data": {
      "text/plain": [
       "((119, 128, 128), (119,), (119, 8427), (119,))"
      ]
     },
     "execution_count": 3,
     "metadata": {},
     "output_type": "execute_result"
    }
   ],
   "source": [
    "all_data = load_dataset(data_path=\"./../data/\")\n",
    "\n",
    "x_stim, y_stim = prepare_stimulus_data(\n",
    "    all_data=all_data,\n",
    "    data_subset=\"test\",\n",
    "    class_ignore_list=config_stim.class_ignore_list,\n",
    "    label_level=config_stim.label_level,\n",
    ")\n",
    "\n",
    "x_fmri, y_fmri = prepare_fmri_data(\n",
    "    all_data=all_data,\n",
    "    data_subset=\"test\",\n",
    "    class_ignore_list=config_fmri.class_ignore_list,\n",
    "    label_level=config_fmri.label_level,\n",
    "    roi_select_list=config_fmri.roi_select_list,\n",
    ")\n",
    "\n",
    "x_stim.shape, y_stim.shape, x_fmri.shape, y_fmri.shape"
   ]
  },
  {
   "cell_type": "code",
   "execution_count": 4,
   "id": "006cee34-7980-4469-a567-5fd852cfa934",
   "metadata": {},
   "outputs": [],
   "source": [
    "assert len(np.unique(y_stim)) == len(np.unique(y_fmri))\n",
    "class2idx = {k: i for i, k in enumerate(np.unique(y_stim))}\n",
    "idx2class = {v: k for k, v in class2idx.items()}"
   ]
  },
  {
   "cell_type": "code",
   "execution_count": 5,
   "id": "cb801a3b-6ff6-456e-9802-2c5be7fa0e13",
   "metadata": {},
   "outputs": [],
   "source": [
    "stim_dataset = StimulusDataset(\n",
    "    x_data=x_stim,\n",
    "    y_data=y_stim,\n",
    "    img_transform=config_stim.img_transform[\"test\"],\n",
    "    class2idx=class2idx,\n",
    ")\n",
    "\n",
    "stim_loader = DataLoader(dataset=stim_dataset, shuffle=False, batch_size=1)\n",
    "\n",
    "\n",
    "fmri_dataset = FMRIDataset(x_data=x_fmri, y_data=y_fmri, class2idx=class2idx)\n",
    "\n",
    "fmri_loader = DataLoader(dataset=fmri_dataset, shuffle=False, batch_size=1)"
   ]
  },
  {
   "cell_type": "markdown",
   "id": "b7d113ca-5c52-4777-b761-196e83dec9a5",
   "metadata": {},
   "source": [
    "## Load Model"
   ]
  },
  {
   "cell_type": "code",
   "execution_count": 6,
   "id": "8af83f02-6c9e-4184-928a-1dfd0d0799cc",
   "metadata": {},
   "outputs": [
    {
     "name": "stdout",
     "output_type": "stream",
     "text": [
      "Models loaded.\n"
     ]
    }
   ],
   "source": [
    "stim_model = StimulusClassifier(\n",
    "    num_channel=config_stim.model_input_num_channel, num_classes=len(class2idx)\n",
    ")\n",
    "stim_model.load_state_dict(\n",
    "    torch.load(\"./../models/stimulus_classifier/stim_classifier_model.pth\")\n",
    ")\n",
    "stim_model.eval()\n",
    "\n",
    "\n",
    "fmri_model = FMRIClassifier(num_features=x_fmri.shape[1], num_classes=len(class2idx))\n",
    "fmri_model.load_state_dict(\n",
    "    torch.load(\"./../models/fmri_classifier/fmri_classifier_model.pth\")\n",
    ")\n",
    "fmri_model.eval()\n",
    "\n",
    "print(\"Models loaded.\")"
   ]
  },
  {
   "cell_type": "markdown",
   "id": "3e006d6e-07fd-404c-9168-bba35a4909d3",
   "metadata": {},
   "source": [
    "## RSA"
   ]
  },
  {
   "cell_type": "code",
   "execution_count": 7,
   "id": "bd6f09de-cb2a-4061-8e54-de67066b99d1",
   "metadata": {},
   "outputs": [
    {
     "name": "stderr",
     "output_type": "stream",
     "text": [
      "/home/akshaj/miniconda3/envs/decoding-thoughts/lib/python3.8/site-packages/torch/nn/functional.py:718: UserWarning: Named tensors and all their associated APIs are an experimental feature and subject to change. Please do not use them for anything important until they are released as stable. (Triggered internally at  /pytorch/c10/core/TensorImpl.h:1156.)\n",
      "  return torch.max_pool2d(input, kernel_size, stride, padding, dilation, ceil_mode)\n"
     ]
    }
   ],
   "source": [
    "hidden_stim_dict = {k: [] for k in class2idx.keys()}\n",
    "hidden_fmri_dict = {k: [] for k in class2idx.keys()}\n",
    "\n",
    "with torch.no_grad():\n",
    "    for x, y in stim_loader:\n",
    "        hidden_stim = stim_model.get_latent_rep(x).squeeze()\n",
    "        hidden_stim_dict[idx2class[y.item()]].append(hidden_stim)\n",
    "\n",
    "with torch.no_grad():\n",
    "    for x, y in fmri_loader:\n",
    "        hidden_fmri = fmri_model.get_latent_rep(x).squeeze()\n",
    "        hidden_fmri_dict[idx2class[y.item()]].append(hidden_fmri)"
   ]
  },
  {
   "cell_type": "code",
   "execution_count": 8,
   "id": "0fcb1094-261f-4adb-8982-ce68b9c034df",
   "metadata": {},
   "outputs": [],
   "source": [
    "hidden_stim_dict = {\n",
    "    k: torch.stack(hidden_stim_dict[k], dim=0).mean(dim=(0, 1))\n",
    "    for k in hidden_stim_dict.keys()\n",
    "}\n",
    "\n",
    "hidden_fmri_dict = {\n",
    "    k: torch.stack(hidden_fmri_dict[k], dim=0).mean(dim=(0, 1))\n",
    "    for k in hidden_fmri_dict.keys()\n",
    "}"
   ]
  },
  {
   "cell_type": "code",
   "execution_count": 9,
   "id": "592b3be3-0965-43b2-aa79-67257f1c4e57",
   "metadata": {},
   "outputs": [
    {
     "data": {
      "text/plain": [
       "({'animal': tensor(-0.2382),\n",
       "  'artifact': tensor(-0.2393),\n",
       "  'entity': tensor(-0.1977),\n",
       "  'fruit': tensor(-0.1596),\n",
       "  'geological formation': tensor(-0.1811)},\n",
       " {'animal': tensor(0.1454),\n",
       "  'artifact': tensor(0.1537),\n",
       "  'entity': tensor(0.2152),\n",
       "  'fruit': tensor(0.1747),\n",
       "  'geological formation': tensor(0.1981)})"
      ]
     },
     "execution_count": 9,
     "metadata": {},
     "output_type": "execute_result"
    }
   ],
   "source": [
    "hidden_stim_dict, hidden_fmri_dict"
   ]
  },
  {
   "cell_type": "code",
   "execution_count": 10,
   "id": "460b18fe-961a-4410-a49c-4fb39e136620",
   "metadata": {},
   "outputs": [],
   "source": [
    "hidden_stim_tensors = torch.stack(list(hidden_stim_dict.values()))\n",
    "hidden_fmri_tensors = torch.stack(list(hidden_fmri_dict.values()))"
   ]
  },
  {
   "cell_type": "code",
   "execution_count": 11,
   "id": "d778d557-d8ad-4f56-956c-d8bf6ede546c",
   "metadata": {},
   "outputs": [],
   "source": [
    "rsa_matrix = hidden_stim_tensors.unsqueeze(0).T @ hidden_fmri_tensors.unsqueeze(0)"
   ]
  },
  {
   "cell_type": "code",
   "execution_count": 36,
   "id": "1f2d08f8-82f1-4be7-a1b1-7fee8ed164c0",
   "metadata": {},
   "outputs": [
    {
     "data": {
      "text/plain": [
       "Text(29.999999999999993, 0.5, 'CNN Model')"
      ]
     },
     "execution_count": 36,
     "metadata": {},
     "output_type": "execute_result"
    },
    {
     "data": {
      "image/png": "[encoded data removed]",
      "text/plain": [
       "<Figure size 432x288 with 2 Axes>"
      ]
     },
     "metadata": {},
     "output_type": "display_data"
    }
   ],
   "source": [
    "sns.heatmap(\n",
    "    np.array(rsa_matrix),\n",
    "    annot=True,\n",
    "    xticklabels=class2idx.keys(),\n",
    "    yticklabels=class2idx.keys(),\n",
    ")\n",
    "plt.title(\"RSA Similarity Matrix: CNN vs fMRI\")\n",
    "plt.xlabel(\"fMRI Model\")\n",
    "plt.ylabel(\"CNN Model\")"
   ]
  }
 ],
 "metadata": {
  "kernelspec": {
   "display_name": "Python 3 (ipykernel)",
   "language": "python",
   "name": "python3"
  },
  "language_info": {
   "codemirror_mode": {
    "name": "ipython",
    "version": 3
   },
   "file_extension": ".py",
   "mimetype": "text/x-python",
   "name": "python",
   "nbconvert_exporter": "python",
   "pygments_lexer": "ipython3",
   "version": "3.8.11"
  }
 },
 "nbformat": 4,
 "nbformat_minor": 5
}
